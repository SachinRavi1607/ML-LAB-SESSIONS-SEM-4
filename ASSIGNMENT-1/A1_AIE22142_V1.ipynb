{
 "cells": [
  {
   "cell_type": "code",
   "execution_count": 9,
   "metadata": {},
   "outputs": [
    {
     "name": "stdout",
     "output_type": "stream",
     "text": [
      "the number of vowels is:2\n",
      "the numebr of consonants is:3\n"
     ]
    }
   ],
   "source": [
    "def no_vow_conso():\n",
    "    random_String=input(\"enter the String for which you want to count the number of vowels and consonants:\")\n",
    "    vowel=[\"a\",\"e\",\"i\",\"o\",\"u\",\"A\",\"E\",\"I\",\"O\",\"U\"]\n",
    "    count_vow=0\n",
    "    count_conso=0\n",
    "    for i in random_String:\n",
    "        if i in vowel:\n",
    "            count_vow+=1 \n",
    "        else:\n",
    "            count_conso+=1\n",
    "    print(f\"the number of vowels is:{count_vow}\")\n",
    "    print(f\"the numebr of consonants is:{count_conso}\")\n",
    "no_vow_conso()\n",
    "\n",
    "\n",
    "\n"
   ]
  },
  {
   "cell_type": "code",
   "execution_count": 12,
   "metadata": {},
   "outputs": [
    {
     "name": "stdout",
     "output_type": "stream",
     "text": [
      "the count of elements 3\n"
     ]
    }
   ],
   "source": [
    "def comapare_lists(L1,L2):\n",
    "    count=0\n",
    "    for i in range(0,len(L1)) :\n",
    "        for j in range(0,len(L2)):\n",
    "            if L1[i]==L2[j]:\n",
    "                count+=1\n",
    "    \n",
    "    print(\"the count of elements\",count)\n",
    "\n",
    "L1=[1,23,45,778,902,678]\n",
    "L2=[2,23,778,902,344,298]\n",
    "\n",
    "comapare_lists(L1,L2)\n",
    "\n",
    "\n"
   ]
  },
  {
   "cell_type": "code",
   "execution_count": 6,
   "metadata": {},
   "outputs": [],
   "source": [
    "def matrix_multiplication(matrix_a, matrix_b):\n",
    "  \n",
    "    result = [[0 for _ in range(len(matrix_b[0]))] for _ in range(len(matrix_a))]\n",
    "\n",
    "    for i in range(len(matrix_a)):\n",
    "        for j in range(len(matrix_b[0])):\n",
    "            for k in range(len(matrix_b)):\n",
    "                result[i][j] += matrix_a[i][k] * matrix_b[k][j]\n",
    "\n",
    "    return result\n",
    "\n",
    "def get_user_input_matrix(rows, columns):\n",
    "    matrix = []\n",
    "\n",
    "    for i in range(rows):\n",
    "        row = []\n",
    "        for j in range(columns):\n",
    "            element = float(input(f\"Enter the element at position ({i+1}, {j+1}): \"))\n",
    "            row.append(element)\n",
    "        matrix.append(row)\n",
    "\n",
    "    return matrix\n",
    "\n",
    "rows_first = int(input(\"Enter the number of rows for the first matrix: \"))\n",
    "columns_first = int(input(\"Enter the number of columns for the first matrix: \"))\n",
    "user_matrix_first = get_user_input_matrix(rows_first, columns_first)\n",
    "\n",
    "rows_second = columns_first  \n",
    "columns_second = int(input(\"Enter the number of columns for the second matrix: \"))\n",
    "user_matrix_second = get_user_input_matrix(columns_first, columns_second)\n",
    "\n",
    "result_matrix = matrix_multiplication(user_matrix_first, user_matrix_second)\n",
    "\n",
    "print(\"Result Matrix:\")\n",
    "for row in result_matrix:\n",
    "    print(row)\n"
   ]
  },
  {
   "cell_type": "code",
   "execution_count": 8,
   "metadata": {},
   "outputs": [
    {
     "name": "stdout",
     "output_type": "stream",
     "text": [
      "[1, 4]\n",
      "[2, 5]\n",
      "[3, 6]\n"
     ]
    }
   ],
   "source": [
    "def Mat_Transpose(Matrix_a):\n",
    "    Transpose_Matrix = [[0 for row in range(len(Matrix_a))] for column in range(len(Matrix_a[0]))]\n",
    "    for i in range(len(Matrix_a)):\n",
    "        for j in range(len(Matrix_a[0])):\n",
    "            Transpose_Matrix[j][i]=Matrix_a[i][j]\n",
    "    return Transpose_Matrix\n",
    "Matrix_a=[[1,2,3],[4,5,6]]\n",
    "resultant_Transpose_Matrix=Mat_Transpose(Matrix_a)\n",
    "for row in resultant_Transpose_Matrix:\n",
    "    print(row)\n",
    "\n",
    "        \n"
   ]
  },
  {
   "cell_type": "markdown",
   "metadata": {},
   "source": []
  }
 ],
 "metadata": {
  "kernelspec": {
   "display_name": "Python 3",
   "language": "python",
   "name": "python3"
  },
  "language_info": {
   "codemirror_mode": {
    "name": "ipython",
    "version": 3
   },
   "file_extension": ".py",
   "mimetype": "text/x-python",
   "name": "python",
   "nbconvert_exporter": "python",
   "pygments_lexer": "ipython3",
   "version": "3.11.5"
  }
 },
 "nbformat": 4,
 "nbformat_minor": 2
}
